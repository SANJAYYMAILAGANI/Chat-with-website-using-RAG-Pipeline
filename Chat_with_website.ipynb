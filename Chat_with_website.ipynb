{
  "nbformat": 4,
  "nbformat_minor": 0,
  "metadata": {
    "colab": {
      "provenance": []
    },
    "kernelspec": {
      "name": "python3",
      "display_name": "Python 3"
    },
    "language_info": {
      "name": "python"
    }
  },
  "cells": [
    {
      "cell_type": "code",
      "source": [
        "pip install requests beautifulsoup4 transformers faiss-cpu sentence-transformers\n"
      ],
      "metadata": {
        "colab": {
          "base_uri": "https://localhost:8080/"
        },
        "id": "97MqbmBxYfLz",
        "outputId": "ce30b43f-368a-4c26-a825-2e8ac6973437"
      },
      "execution_count": 20,
      "outputs": [
        {
          "output_type": "stream",
          "name": "stdout",
          "text": [
            "Requirement already satisfied: requests in /usr/local/lib/python3.10/dist-packages (2.32.3)\n",
            "Requirement already satisfied: beautifulsoup4 in /usr/local/lib/python3.10/dist-packages (4.12.3)\n",
            "Requirement already satisfied: transformers in /usr/local/lib/python3.10/dist-packages (4.46.3)\n",
            "Requirement already satisfied: faiss-cpu in /usr/local/lib/python3.10/dist-packages (1.9.0.post1)\n",
            "Requirement already satisfied: sentence-transformers in /usr/local/lib/python3.10/dist-packages (3.2.1)\n",
            "Requirement already satisfied: charset-normalizer<4,>=2 in /usr/local/lib/python3.10/dist-packages (from requests) (3.4.0)\n",
            "Requirement already satisfied: idna<4,>=2.5 in /usr/local/lib/python3.10/dist-packages (from requests) (3.10)\n",
            "Requirement already satisfied: urllib3<3,>=1.21.1 in /usr/local/lib/python3.10/dist-packages (from requests) (2.2.3)\n",
            "Requirement already satisfied: certifi>=2017.4.17 in /usr/local/lib/python3.10/dist-packages (from requests) (2024.8.30)\n",
            "Requirement already satisfied: soupsieve>1.2 in /usr/local/lib/python3.10/dist-packages (from beautifulsoup4) (2.6)\n",
            "Requirement already satisfied: filelock in /usr/local/lib/python3.10/dist-packages (from transformers) (3.16.1)\n",
            "Requirement already satisfied: huggingface-hub<1.0,>=0.23.2 in /usr/local/lib/python3.10/dist-packages (from transformers) (0.26.5)\n",
            "Requirement already satisfied: numpy>=1.17 in /usr/local/lib/python3.10/dist-packages (from transformers) (1.26.4)\n",
            "Requirement already satisfied: packaging>=20.0 in /usr/local/lib/python3.10/dist-packages (from transformers) (24.2)\n",
            "Requirement already satisfied: pyyaml>=5.1 in /usr/local/lib/python3.10/dist-packages (from transformers) (6.0.2)\n",
            "Requirement already satisfied: regex!=2019.12.17 in /usr/local/lib/python3.10/dist-packages (from transformers) (2024.9.11)\n",
            "Requirement already satisfied: tokenizers<0.21,>=0.20 in /usr/local/lib/python3.10/dist-packages (from transformers) (0.20.3)\n",
            "Requirement already satisfied: safetensors>=0.4.1 in /usr/local/lib/python3.10/dist-packages (from transformers) (0.4.5)\n",
            "Requirement already satisfied: tqdm>=4.27 in /usr/local/lib/python3.10/dist-packages (from transformers) (4.66.6)\n",
            "Requirement already satisfied: torch>=1.11.0 in /usr/local/lib/python3.10/dist-packages (from sentence-transformers) (2.5.1+cu121)\n",
            "Requirement already satisfied: scikit-learn in /usr/local/lib/python3.10/dist-packages (from sentence-transformers) (1.5.2)\n",
            "Requirement already satisfied: scipy in /usr/local/lib/python3.10/dist-packages (from sentence-transformers) (1.13.1)\n",
            "Requirement already satisfied: Pillow in /usr/local/lib/python3.10/dist-packages (from sentence-transformers) (11.0.0)\n",
            "Requirement already satisfied: fsspec>=2023.5.0 in /usr/local/lib/python3.10/dist-packages (from huggingface-hub<1.0,>=0.23.2->transformers) (2024.10.0)\n",
            "Requirement already satisfied: typing-extensions>=3.7.4.3 in /usr/local/lib/python3.10/dist-packages (from huggingface-hub<1.0,>=0.23.2->transformers) (4.12.2)\n",
            "Requirement already satisfied: networkx in /usr/local/lib/python3.10/dist-packages (from torch>=1.11.0->sentence-transformers) (3.4.2)\n",
            "Requirement already satisfied: jinja2 in /usr/local/lib/python3.10/dist-packages (from torch>=1.11.0->sentence-transformers) (3.1.4)\n",
            "Requirement already satisfied: sympy==1.13.1 in /usr/local/lib/python3.10/dist-packages (from torch>=1.11.0->sentence-transformers) (1.13.1)\n",
            "Requirement already satisfied: mpmath<1.4,>=1.1.0 in /usr/local/lib/python3.10/dist-packages (from sympy==1.13.1->torch>=1.11.0->sentence-transformers) (1.3.0)\n",
            "Requirement already satisfied: joblib>=1.2.0 in /usr/local/lib/python3.10/dist-packages (from scikit-learn->sentence-transformers) (1.4.2)\n",
            "Requirement already satisfied: threadpoolctl>=3.1.0 in /usr/local/lib/python3.10/dist-packages (from scikit-learn->sentence-transformers) (3.5.0)\n",
            "Requirement already satisfied: MarkupSafe>=2.0 in /usr/local/lib/python3.10/dist-packages (from jinja2->torch>=1.11.0->sentence-transformers) (3.0.2)\n"
          ]
        }
      ]
    },
    {
      "cell_type": "code",
      "source": [
        "import requests\n",
        "from bs4 import BeautifulSoup\n",
        "\n",
        "def scrape_website(url):\n",
        "    # Set a user-agent to simulate a browser request\n",
        "    headers = {\n",
        "        \"User-Agent\": \"Mozilla/5.0 (Windows NT 10.0; Win64; x64) AppleWebKit/537.36 (KHTML, like Gecko) Chrome/91.0.4472.124 Safari/537.36\"\n",
        "    }\n",
        "\n",
        "    try:\n",
        "        # Send GET request to the website with headers\n",
        "        response = requests.get(url, headers=headers)\n",
        "\n",
        "        if response.status_code != 200:\n",
        "            print(f\"Failed to retrieve content from {url}. Status code: {response.status_code}\")\n",
        "            return None\n",
        "\n",
        "        # Parse HTML content\n",
        "        soup = BeautifulSoup(response.content, 'html.parser')\n",
        "\n",
        "        # Extract all textual content from paragraphs\n",
        "        text = \" \".join([p.get_text() for p in soup.find_all('p')])\n",
        "        return text\n",
        "    except Exception as e:\n",
        "        print(f\"An error occurred while scraping {url}: {e}\")\n",
        "        return None\n",
        "\n",
        "# Example usage\n",
        "url = \"https://www.uchicago.edu/\"\n",
        "website_text = scrape_website(url)\n",
        "\n",
        "if website_text:\n",
        "    print(website_text[:500])  # Print first 500 characters of the scraped text\n",
        "else:\n",
        "    print(\"Failed to retrieve website content.\")\n"
      ],
      "metadata": {
        "colab": {
          "base_uri": "https://localhost:8080/"
        },
        "id": "ScOIhd9tYkdP",
        "outputId": "8777b399-7649-4a7a-a36f-8cc49c50193d"
      },
      "execution_count": 22,
      "outputs": [
        {
          "output_type": "stream",
          "name": "stdout",
          "text": [
            "A diversity of people and ideas, coupled with free and open discourse, lays the foundation for students and scholars to bring forth original ideas that define fields and enrich human life. UChicago students develop the habits of mind and intellectual skills needed to confront complex challenges. UChicago researchers have contributed to some of the world’s greatest discoveries, advancements, and bodies of knowledge. Faculty have a free and challenging environment in which to pursue the most origi\n"
          ]
        }
      ]
    },
    {
      "cell_type": "code",
      "source": [
        "def chunk_text(text, chunk_size=500):\n",
        "    # Split text into chunks of a specific size\n",
        "    chunks = [text[i:i+chunk_size] for i in range(0, len(text), chunk_size)]\n",
        "    return chunks\n",
        "\n",
        "# Example usage\n",
        "chunks = chunk_text(website_text)\n",
        "print(chunks[:2])  # Print first 2 chunks\n"
      ],
      "metadata": {
        "colab": {
          "base_uri": "https://localhost:8080/"
        },
        "id": "1OqU3o1sZCqd",
        "outputId": "338ceda5-98a7-4eed-cd21-7b15c306510b"
      },
      "execution_count": 23,
      "outputs": [
        {
          "output_type": "stream",
          "name": "stdout",
          "text": [
            "['A diversity of people and ideas, coupled with free and open discourse, lays the foundation for students and scholars to bring forth original ideas that define fields and enrich human life. UChicago students develop the habits of mind and intellectual skills needed to confront complex challenges. UChicago researchers have contributed to some of the world’s greatest discoveries, advancements, and bodies of knowledge. Faculty have a free and challenging environment in which to pursue the most origi', \"nal research. As a community partner, we invest in Chicago’s South Side across such areas as health, education,  economic growth, and the arts. We are an international community of scholars working to solve the world's most pressing issues, with initiatives and programs on all seven continents. Chicago is not only in our name, it’s woven into the fabric of this institution. Located in the Hyde Park neighborhood, we benefit from the diversity, arts, and vibrant culture of our South Side community\"]\n"
          ]
        }
      ]
    },
    {
      "cell_type": "code",
      "source": [
        "from sentence_transformers import SentenceTransformer\n",
        "\n",
        "# Initialize pre-trained model\n",
        "model = SentenceTransformer('all-MiniLM-L6-v2')\n",
        "\n",
        "def get_embeddings(chunks):\n",
        "    # Convert each chunk to embeddings\n",
        "    embeddings = model.encode(chunks)\n",
        "    return embeddings\n",
        "\n",
        "# Example usage\n",
        "chunk_embeddings = get_embeddings(chunks)\n",
        "print(chunk_embeddings[:2])  # Print the first two embeddings\n"
      ],
      "metadata": {
        "colab": {
          "base_uri": "https://localhost:8080/"
        },
        "id": "4xoYom7_ZHnQ",
        "outputId": "d284fff0-af08-46d5-b17f-261e40099794"
      },
      "execution_count": 24,
      "outputs": [
        {
          "output_type": "stream",
          "name": "stdout",
          "text": [
            "[[ 4.58043404e-02 -2.07584933e-03  1.43037653e-02  6.92893099e-03\n",
            "  -6.77575693e-02 -4.95091677e-02 -1.57416775e-03 -6.64268658e-02\n",
            "   7.62342736e-02  1.08552225e-01  3.59665826e-02 -3.63682248e-02\n",
            "  -9.58061814e-02 -3.11354231e-02  4.31821187e-04  4.20903563e-02\n",
            "  -5.89733683e-02 -6.06777221e-02 -3.97578292e-02  1.49847399e-02\n",
            "   1.14547636e-03  3.90778705e-02  6.21520728e-03  6.71921521e-02\n",
            "  -8.15694258e-02  6.93417341e-02  4.62126620e-02 -7.11729154e-02\n",
            "   4.35531959e-02 -2.39560939e-02  8.99683964e-03  6.08324744e-02\n",
            "   4.08646315e-02  2.50846576e-02  6.22564647e-03  6.25678226e-02\n",
            "  -8.05600174e-03  8.27684626e-02  2.90900525e-02 -1.16504813e-02\n",
            "  -9.16371718e-02 -4.74752523e-02  3.15322205e-02  5.01023531e-02\n",
            "  -4.38381732e-02 -1.38991728e-01 -1.26548614e-02 -2.64236461e-02\n",
            "   2.88277157e-02 -6.09268527e-03 -1.40049886e-02 -8.54715481e-02\n",
            "  -1.31495576e-02 -1.08932450e-01 -5.12540266e-02  1.48048969e-02\n",
            "  -3.02180517e-02  7.60205183e-03 -2.34153066e-02 -6.50347769e-02\n",
            "   7.83972517e-02 -2.91502699e-02 -1.76784676e-02  4.97006029e-02\n",
            "  -6.57650130e-03 -2.74251122e-02 -5.59727997e-02  1.14823282e-01\n",
            "   1.42827090e-02 -7.72978831e-03  6.61101192e-02 -2.84135211e-02\n",
            "   4.44938466e-02  7.95541331e-02  1.25940338e-01  2.21817028e-02\n",
            "   2.44426690e-02 -1.86900457e-03  4.75658737e-02 -6.65805442e-03\n",
            "   1.18754975e-01 -1.67899951e-03 -1.04860933e-02  7.16740359e-03\n",
            "   1.48749920e-02 -5.15287630e-02 -2.12206032e-05 -1.36476289e-02\n",
            "   1.88277895e-03 -2.61339638e-02  2.09380547e-03 -8.53606313e-02\n",
            "   6.02095798e-02 -6.32182434e-02  3.00275795e-02  2.71564126e-02\n",
            "  -1.54954866e-02 -3.64152007e-02 -1.23431254e-02  5.41077554e-02\n",
            "  -3.15245762e-02  9.24957693e-02  4.33580391e-03  6.00713640e-02\n",
            "  -6.78155497e-02 -2.26570647e-02 -6.51934301e-04 -6.72322214e-02\n",
            "   4.82716784e-02  5.46408445e-02 -3.92742343e-02  2.91900039e-02\n",
            "  -5.46949171e-03  6.08809404e-02  7.81291872e-02  1.24145383e-02\n",
            "   3.96966096e-03  1.74944755e-02 -7.42877321e-03 -1.50354754e-03\n",
            "  -5.66857010e-02 -2.13270634e-02 -3.59232835e-02 -4.42200620e-03\n",
            "   4.38686237e-02 -6.47693947e-02 -4.21883836e-02 -8.58086253e-35\n",
            "   3.02832425e-02  7.47635961e-02 -6.53917156e-03  7.86718056e-02\n",
            "  -2.97167525e-02 -4.13625725e-02 -4.59202081e-02 -9.86376498e-03\n",
            "  -4.12363410e-02  2.20337920e-02 -3.50926514e-03  9.87018272e-02\n",
            "   2.22463757e-02  9.04894248e-02  4.75990027e-02 -3.36970985e-02\n",
            "  -1.00694343e-01 -1.44940941e-02 -4.37496118e-02 -1.57640353e-02\n",
            "  -1.93790346e-02  1.41853536e-03  4.97029908e-02 -2.67570373e-02\n",
            "  -4.38609980e-02  8.02139100e-03  4.58638854e-02 -2.88546793e-02\n",
            "   1.46918781e-02  1.54864900e-02  6.77500339e-03  4.34734374e-02\n",
            "  -1.15881108e-01  7.33270310e-03  1.34352650e-02  4.62109633e-02\n",
            "   1.30126541e-02 -4.96261120e-02  7.06281886e-02  4.81918082e-02\n",
            "  -7.63768191e-03  4.88812737e-02  3.45863514e-02 -1.94828920e-02\n",
            "   1.19082354e-01  8.99261236e-02  5.62284328e-02  1.72930434e-02\n",
            "   4.11404902e-03  7.87597224e-02 -8.95321518e-02 -9.78639070e-03\n",
            "  -4.88744602e-02 -3.00228372e-02  8.87263753e-03  1.86510514e-02\n",
            "  -1.90610643e-02  5.80854677e-02 -3.63424830e-02 -1.09259166e-01\n",
            "  -1.38164945e-02  9.37081799e-02 -2.90205833e-02 -1.12164244e-02\n",
            "  -2.28931867e-02  3.92037444e-02 -8.67279544e-02  2.61904933e-02\n",
            "   7.32554346e-02  3.24032009e-02 -1.42127685e-02  7.81497266e-03\n",
            "  -1.15940319e-02  7.46548688e-03 -6.65308014e-02  4.53355797e-02\n",
            "  -2.93605197e-02 -5.42764962e-02 -9.15644690e-03  5.84320538e-02\n",
            "  -3.46875191e-02 -3.84037867e-02 -8.88915919e-03  3.75167048e-03\n",
            "   5.11818677e-02  4.60210219e-02  4.01609913e-02 -2.63241418e-02\n",
            "   9.46470723e-02 -1.25067879e-03  7.32154772e-02 -4.34041731e-02\n",
            "  -2.00698208e-02  1.97458044e-02 -4.54982519e-02 -1.50869759e-33\n",
            "  -1.41031947e-02 -7.56080896e-02 -3.39079350e-02  4.08725301e-03\n",
            "   1.19717121e-01  2.64334138e-02 -9.74415168e-02  4.21547703e-02\n",
            "  -7.85983726e-02 -2.56780423e-02 -4.05113623e-02 -3.14021297e-02\n",
            "  -3.56921963e-02  3.83882374e-02  4.88767400e-02 -6.10205457e-02\n",
            "   4.18264419e-02 -3.53390723e-02 -1.01040833e-01  8.66880547e-03\n",
            "   3.82565185e-02 -1.71602648e-02 -8.70217457e-02 -3.57021317e-02\n",
            "   5.65521233e-02  9.22221784e-03  6.58071116e-02 -1.98102817e-02\n",
            "  -4.14918587e-02 -2.70371828e-02  2.18632761e-02  4.24763225e-02\n",
            "  -5.49360812e-02  3.54794000e-04 -1.60647389e-02  6.10280558e-02\n",
            "   3.26959491e-02  1.86229553e-02 -5.72858192e-02  9.04581323e-03\n",
            "  -6.92985160e-03 -1.62729267e-02 -6.22536093e-02 -4.26368006e-02\n",
            "   6.49348972e-03  1.19640050e-03 -3.91473658e-02 -1.94983613e-02\n",
            "  -1.80808047e-03 -5.61061166e-02  1.68106556e-02 -9.03331339e-02\n",
            "   1.20055296e-01 -1.12400711e-01  1.46608517e-01  1.34421326e-03\n",
            "   7.04876781e-02 -6.38271868e-02  6.84889928e-02  5.88019267e-02\n",
            "   1.40390368e-02  1.49111589e-02 -1.65479090e-02  8.23588669e-02\n",
            "  -6.25156164e-02 -1.11033954e-01 -3.69664654e-02  3.95256840e-02\n",
            "  -1.35561973e-01  2.12730821e-02 -4.96226270e-03 -3.30218077e-02\n",
            "  -5.56267984e-02 -7.87807032e-02 -3.80937308e-02  3.73369716e-02\n",
            "  -1.39923198e-02 -1.07004918e-01 -1.30260049e-03  6.77003805e-03\n",
            "  -3.74715440e-02 -1.01307243e-01  3.46067250e-02  2.97420770e-02\n",
            "   7.27107227e-02  6.38775453e-02 -5.65117300e-02  1.78743843e-02\n",
            "   3.36145125e-02  1.69970002e-02 -1.40378168e-02  2.79482584e-02\n",
            "   1.26016065e-02 -6.32855147e-02 -4.81158383e-02 -4.73367301e-08\n",
            "   1.84648205e-02 -6.57662228e-02 -1.18514551e-02  7.75599852e-02\n",
            "  -4.20314930e-02  4.17334028e-02 -5.52925430e-02 -7.24022835e-03\n",
            "  -7.69376904e-02  1.11330785e-01 -1.46852089e-02  1.74172912e-02\n",
            "  -5.94935939e-02  9.42661762e-02  7.38082081e-02  8.40748027e-02\n",
            "   9.21501592e-02 -6.61061183e-02 -1.29011674e-02 -9.87765342e-02\n",
            "   8.14032555e-03  4.41258075e-03  7.24329660e-03 -9.34775639e-03\n",
            "  -5.49983121e-02  1.62865967e-02  5.77853713e-03  1.71451867e-02\n",
            "  -2.36543361e-02 -1.16607212e-02 -1.07592642e-01  7.37779438e-02\n",
            "  -5.37151732e-02 -4.88195047e-02  7.76999071e-02 -8.13694613e-04\n",
            "   7.68014695e-03 -3.85465622e-02  1.97315272e-02 -8.04131571e-03\n",
            "  -2.45783236e-02 -1.26140863e-02  4.55169380e-02  2.90235132e-02\n",
            "   5.46068959e-02  6.50223717e-02  2.22068280e-02  6.24342635e-02\n",
            "  -2.05360241e-02  2.18954962e-02 -3.90972830e-02 -3.24471667e-02\n",
            "   3.03961281e-02  1.12344362e-02 -3.71142803e-03  7.18517751e-02\n",
            "  -2.63257697e-02 -5.70507161e-03 -7.82414675e-02 -4.55522723e-03\n",
            "   1.03014924e-01 -4.94852371e-04 -5.25120609e-02 -3.36256735e-02]\n",
            " [ 4.83926535e-02 -3.24161872e-02  4.57014814e-02 -5.70315123e-03\n",
            "   1.17075341e-02  7.87813812e-02 -2.66672168e-02 -1.02137171e-01\n",
            "   1.95988659e-02  2.25542951e-02 -2.43738219e-02  1.20378146e-02\n",
            "  -6.86085895e-02  3.32263298e-02 -2.63327844e-02  5.82386693e-03\n",
            "  -5.15550515e-03 -7.99444988e-02 -3.40486392e-02 -9.76928771e-02\n",
            "  -5.28571904e-02 -5.30558787e-02  6.86107501e-02  3.12070753e-02\n",
            "  -4.55649570e-02 -9.63472202e-03  3.56417429e-03 -4.91046123e-02\n",
            "   1.53469080e-02 -1.42092183e-02  6.60181865e-02  8.90318602e-02\n",
            "  -1.81133244e-02  4.11499888e-02  4.06390689e-02  7.82689601e-02\n",
            "   3.51581015e-02  6.62215948e-02  4.72015217e-02  2.81802565e-02\n",
            "  -1.95090044e-02 -4.22889180e-02  2.61879005e-02 -1.18223606e-02\n",
            "  -1.80228390e-02 -3.32862847e-02 -3.86186801e-02 -7.59648234e-02\n",
            "   5.40916882e-02 -1.79119210e-03  3.57306823e-02 -1.55342035e-02\n",
            "   2.41748393e-02 -5.60260564e-02 -3.44845466e-02  1.22379743e-01\n",
            "  -3.15634049e-02 -4.84818034e-02 -7.58022442e-02  5.18194810e-02\n",
            "   4.09821495e-02 -7.08238548e-03 -9.90815163e-02  5.39956279e-02\n",
            "   1.75663494e-02 -2.68692728e-02 -4.59943563e-02  5.99116981e-02\n",
            "  -3.44384797e-02 -8.45491141e-02  4.77125868e-02 -1.10614531e-01\n",
            "   3.84947844e-02  3.87159288e-02  5.80613455e-03 -3.93963382e-02\n",
            "   5.47067039e-02 -4.90858331e-02  8.11897889e-02 -6.00862280e-02\n",
            "   7.30597079e-02  3.81737016e-02  6.11241125e-02  4.01448132e-03\n",
            "  -3.37828621e-02 -8.50957856e-02 -3.13851163e-02 -1.83987916e-02\n",
            "   6.82203248e-02 -6.99979952e-03 -1.23348385e-02  2.11941972e-02\n",
            "   7.53753679e-03 -7.03698769e-02  4.29774374e-02  4.77934144e-02\n",
            "  -4.05217260e-02 -8.37178156e-02 -3.14244106e-02  5.69488704e-02\n",
            "   6.66437894e-02  1.06575876e-01  6.29987717e-02 -9.30567160e-02\n",
            "  -5.02310209e-02 -1.13714123e-02 -3.05560157e-02  2.79557090e-02\n",
            "  -2.87984889e-02  1.02441505e-01 -2.52149650e-03  3.50985564e-02\n",
            "   1.68169308e-02  6.00121021e-02  3.86299752e-02 -1.03983127e-01\n",
            "   3.02891303e-02 -2.14419272e-02  6.83429241e-02 -7.47816786e-02\n",
            "  -8.69412199e-02  6.09472953e-03 -2.36088634e-02  2.51263808e-02\n",
            "  -6.55326759e-03 -6.86096102e-02 -5.80687225e-02 -3.21954936e-33\n",
            "  -5.66667914e-02  2.21251678e-02 -1.92761363e-03  7.34512433e-02\n",
            "  -8.29125941e-02 -1.13089746e-02  5.25158904e-02 -9.99100227e-03\n",
            "  -7.80982375e-02 -1.18726501e-02  6.21169247e-02  3.71187255e-02\n",
            "   1.93356965e-02  3.50253023e-02 -3.73030081e-03  6.62023947e-02\n",
            "  -7.50746876e-02 -1.72498114e-02 -9.65802893e-02 -1.20757043e-03\n",
            "  -6.65152520e-02  2.32084040e-02  4.04632092e-02 -5.30631142e-03\n",
            "  -1.34036643e-02 -5.12577631e-02 -6.54895902e-02 -5.90695404e-02\n",
            "   1.71254184e-02  2.00887155e-02  9.76808816e-02  1.25115052e-01\n",
            "  -2.37306543e-02  3.34207937e-02  1.18385060e-02  6.78810403e-02\n",
            "   4.39505242e-02  1.88532064e-03  1.31103827e-03  3.38895246e-02\n",
            "   3.42323706e-02  6.31931126e-02 -2.97886375e-02  7.22721890e-02\n",
            "   2.04514191e-02  8.90532881e-02  4.18344103e-02  1.96485361e-03\n",
            "   1.58466324e-02 -1.23862382e-02 -1.41645717e-02 -6.31245971e-03\n",
            "  -1.08739346e-01  1.08184409e-03  7.63297081e-02  4.27334569e-02\n",
            "  -4.80959676e-02  3.43238935e-02  6.93380907e-02  8.22462980e-03\n",
            "  -1.11837434e-02  4.43464518e-02 -5.39761670e-02 -2.89000049e-02\n",
            "   8.02126080e-02 -2.25460622e-02 -1.26889478e-02 -7.46843815e-02\n",
            "   3.48209478e-02 -1.90830398e-02 -1.44851301e-02  4.27289456e-02\n",
            "   7.18855560e-02  6.38895035e-02 -4.25233021e-02  5.65022638e-04\n",
            "  -5.81401363e-02  4.07765210e-02  6.64395392e-02  9.03663412e-02\n",
            "  -6.73437193e-02 -8.53701960e-04 -3.95000167e-02  3.02397292e-02\n",
            "   7.57956579e-02 -8.40494186e-02  4.84612323e-02 -2.38208957e-02\n",
            "  -8.72521382e-03 -4.19589430e-02 -1.27788465e-02 -3.49422172e-02\n",
            "   3.13645341e-02  5.39021045e-02 -1.58038307e-02  2.50614219e-35\n",
            "  -6.31433278e-02 -1.17780328e-01 -2.03108750e-02  3.15746618e-03\n",
            "   8.72907788e-03 -6.67017475e-02 -5.33859897e-03 -4.97399829e-02\n",
            "  -1.55733516e-02  8.38425234e-02 -3.34303193e-02 -5.42700058e-03\n",
            "   7.52869621e-02  5.94671816e-02  1.60959549e-02 -1.03735752e-01\n",
            "   7.77579099e-02 -1.57827009e-02 -8.54268745e-02  5.30989505e-02\n",
            "   4.52573821e-02  5.47297932e-02  5.49976295e-03  4.77052554e-02\n",
            "   5.37084974e-02  6.03233166e-02 -8.27702880e-03 -5.84208742e-02\n",
            "  -6.47129789e-02  3.54770906e-02  1.77644249e-02  8.62916484e-02\n",
            "   9.86274611e-03 -7.53687769e-02 -1.05855882e-01  7.04478174e-02\n",
            "   7.65844074e-04 -8.06639493e-02 -1.10844649e-01 -6.84944168e-02\n",
            "   6.45661727e-02  3.49539332e-02 -3.41562480e-02 -3.15144658e-02\n",
            "   2.91575649e-04  3.56843658e-02 -8.77593905e-02  3.47057357e-02\n",
            "  -3.85718234e-02 -9.57814828e-02 -3.29863168e-02 -6.19465634e-02\n",
            "   3.95497866e-02 -9.61746871e-02  1.06728695e-01  2.26831231e-02\n",
            "  -1.30597060e-03 -4.83415313e-02 -3.16952728e-02 -9.44551837e-04\n",
            "  -6.34634681e-03  1.06680937e-01 -4.70899120e-02  2.19446030e-02\n",
            "  -1.09013664e-02 -7.35356957e-02  5.27068526e-02  4.05220240e-02\n",
            "  -1.42720863e-02 -1.96207948e-02 -8.30102153e-03  5.02065159e-02\n",
            "  -1.19808121e-02 -5.89049757e-02 -2.10191626e-02  3.46970605e-03\n",
            "   9.14632231e-02 -7.23489420e-03  1.35609452e-02 -3.36307622e-02\n",
            "  -3.49435024e-02 -1.42514231e-02  3.19454707e-02  3.21511440e-02\n",
            "   4.19965424e-02  9.27824900e-02 -8.72382671e-02  1.81200765e-02\n",
            "   3.35765630e-02 -4.60167415e-03 -1.73041057e-02 -3.44365239e-02\n",
            "  -1.23500943e-01 -2.42596436e-02 -5.72110992e-04 -4.34533831e-08\n",
            "   3.64240669e-02 -6.50151214e-03  2.39495412e-02 -1.33230602e-02\n",
            "  -4.83114645e-02  4.24906053e-02 -2.61406656e-02  1.00974469e-02\n",
            "   7.63450237e-03  1.17087670e-01 -2.80483700e-02  8.17786753e-02\n",
            "   1.16256261e-02  8.27833894e-04 -8.37409794e-02  2.29820553e-02\n",
            "  -4.09845449e-03  4.55128103e-02 -2.37302054e-02 -6.58731535e-02\n",
            "   4.41950038e-02  4.18433361e-02  2.36057513e-03  1.60986446e-02\n",
            "   1.29822725e-02  1.27687473e-02 -2.72163935e-02  2.51929443e-02\n",
            "  -5.37620783e-02 -9.71093103e-02 -5.25258444e-02  3.94959673e-02\n",
            "   1.99173726e-02  3.99912260e-02  1.01738356e-01 -9.87702161e-02\n",
            "   2.15251558e-02  4.09805868e-03 -3.98705946e-03 -3.08157299e-02\n",
            "  -5.80883510e-02  2.42479946e-02  4.13373262e-02 -2.79350057e-02\n",
            "  -3.96797545e-02  1.12539278e-02  2.88313050e-02  2.61678509e-02\n",
            "   3.21600214e-02 -7.41273910e-03 -9.48991552e-02 -4.85242754e-02\n",
            "  -6.90921722e-03  1.37204640e-02  1.97310392e-02 -1.92801375e-02\n",
            "  -7.29435310e-02  9.11970902e-03 -1.46596571e-02 -1.64327119e-02\n",
            "   7.58776590e-02 -2.16852557e-02 -9.28918347e-02  1.20451981e-02]]\n"
          ]
        }
      ]
    },
    {
      "cell_type": "code",
      "source": [
        "import faiss\n",
        "import numpy as np\n",
        "\n",
        "def create_faiss_index(embeddings):\n",
        "    # Convert embeddings to numpy array (FAISS requires numpy arrays)\n",
        "    embeddings_np = np.array(embeddings).astype(np.float32)\n",
        "\n",
        "    # Create FAISS index\n",
        "    index = faiss.IndexFlatL2(embeddings_np.shape[1])  # L2 distance metric\n",
        "    index.add(embeddings_np)  # Add embeddings to the index\n",
        "    return index\n",
        "\n",
        "# Example usage\n",
        "index = create_faiss_index(chunk_embeddings)\n"
      ],
      "metadata": {
        "id": "-QdTSfWPZNYA"
      },
      "execution_count": 25,
      "outputs": []
    },
    {
      "cell_type": "code",
      "source": [
        "def query_to_embedding(query):\n",
        "    # Convert user query to embedding\n",
        "    query_embedding = model.encode([query])\n",
        "    return query_embedding\n",
        "\n",
        "def retrieve_relevant_chunks(query_embedding, index, k=3):\n",
        "    # Perform similarity search (find top k closest chunks)\n",
        "    distances, indices = index.search(np.array(query_embedding).astype(np.float32), k)\n",
        "\n",
        "    # Retrieve the corresponding chunks based on the indices\n",
        "    relevant_chunks = [chunks[i] for i in indices[0]]\n",
        "    return relevant_chunks\n",
        "\n",
        "# Example usage\n",
        "query = \"What is the latest research at the University of Chicago?\"\n",
        "query_embedding = query_to_embedding(query)\n",
        "relevant_chunks = retrieve_relevant_chunks(query_embedding, index)\n",
        "print(relevant_chunks)  # Print the top relevant chunks\n"
      ],
      "metadata": {
        "colab": {
          "base_uri": "https://localhost:8080/"
        },
        "id": "mTwah6a7ZQy5",
        "outputId": "ee433a65-05cb-43ff-e151-a8f53cc2a3ba"
      },
      "execution_count": 26,
      "outputs": [
        {
          "output_type": "stream",
          "name": "stdout",
          "text": [
            "[\"nal research. As a community partner, we invest in Chicago’s South Side across such areas as health, education,  economic growth, and the arts. We are an international community of scholars working to solve the world's most pressing issues, with initiatives and programs on all seven continents. Chicago is not only in our name, it’s woven into the fabric of this institution. Located in the Hyde Park neighborhood, we benefit from the diversity, arts, and vibrant culture of our South Side community\", 'A diversity of people and ideas, coupled with free and open discourse, lays the foundation for students and scholars to bring forth original ideas that define fields and enrich human life. UChicago students develop the habits of mind and intellectual skills needed to confront complex challenges. UChicago researchers have contributed to some of the world’s greatest discoveries, advancements, and bodies of knowledge. Faculty have a free and challenging environment in which to pursue the most origi', '. ']\n"
          ]
        }
      ]
    },
    {
      "cell_type": "code",
      "source": [
        "def generate_response(query, relevant_chunks):\n",
        "    # Concatenate retrieved chunks and form a prompt for the response\n",
        "    context = \" \".join(relevant_chunks)\n",
        "    response = f\"Query: {query}\\nContext: {context}\\nAnswer:\"\n",
        "    return response\n",
        "\n",
        "# Example usage\n",
        "response = generate_response(query, relevant_chunks)\n",
        "print(response)  # Output the response based on the retrieved chunks\n"
      ],
      "metadata": {
        "colab": {
          "base_uri": "https://localhost:8080/"
        },
        "id": "vDz0lJYGZSkD",
        "outputId": "2aa25316-2dce-4c03-a109-b434c12e4ec8"
      },
      "execution_count": 27,
      "outputs": [
        {
          "output_type": "stream",
          "name": "stdout",
          "text": [
            "Query: What is the latest research at the University of Chicago?\n",
            "Context: nal research. As a community partner, we invest in Chicago’s South Side across such areas as health, education,  economic growth, and the arts. We are an international community of scholars working to solve the world's most pressing issues, with initiatives and programs on all seven continents. Chicago is not only in our name, it’s woven into the fabric of this institution. Located in the Hyde Park neighborhood, we benefit from the diversity, arts, and vibrant culture of our South Side community A diversity of people and ideas, coupled with free and open discourse, lays the foundation for students and scholars to bring forth original ideas that define fields and enrich human life. UChicago students develop the habits of mind and intellectual skills needed to confront complex challenges. UChicago researchers have contributed to some of the world’s greatest discoveries, advancements, and bodies of knowledge. Faculty have a free and challenging environment in which to pursue the most origi . \n",
            "Answer:\n"
          ]
        }
      ]
    }
  ]
}